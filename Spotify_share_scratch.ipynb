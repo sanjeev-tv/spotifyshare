{
 "cells": [
  {
   "cell_type": "code",
   "execution_count": 28,
   "metadata": {},
   "outputs": [],
   "source": [
    "import spotipy\n",
    "from spotipy.oauth2 import SpotifyClientCredentials, SpotifyOAuth"
   ]
  },
  {
   "cell_type": "code",
   "execution_count": null,
   "metadata": {},
   "outputs": [],
   "source": []
  },
  {
   "cell_type": "code",
   "execution_count": 116,
   "metadata": {},
   "outputs": [],
   "source": [
    "scope = 'playlist-modify-public'\n",
    "sp = spotipy.Spotify(auth_manager=SpotifyOAuth(client_id=cid,client_secret=secret,redirect_uri=redirect_uri,scope=scope,username=username))"
   ]
  },
  {
   "cell_type": "code",
   "execution_count": 168,
   "metadata": {},
   "outputs": [],
   "source": [
    "def create_playlist(playlist_name):\n",
    "#     scope = 'playlist-modify-public'\n",
    "#     sp = spotipy.Spotify(auth_manager=SpotifyOAuth(client_id=cid,client_secret=secret,redirect_uri=redirect_uri,scope=scope,username=username))\n",
    "    playlists = sp.user_playlists(user=username)\n",
    "    for playlist in playlists['items']:\n",
    "        if playlist['name'] == playlist_name:\n",
    "            print('Deleting currently existing playlist of name \\'{}\\''.format(playlist_name))\n",
    "            id = playlist['id']\n",
    "            sp.user_playlist_unfollow(user=username,playlist_id=id)\n",
    "\n",
    "    playlist = sp.user_playlist_create(user=username,name=playlist_name)\n",
    "    return playlist['id']"
   ]
  },
  {
   "cell_type": "code",
   "execution_count": 194,
   "metadata": {},
   "outputs": [
    {
     "name": "stdout",
     "output_type": "stream",
     "text": [
      "Deleting currently existing playlist of name 'share'\n"
     ]
    }
   ],
   "source": [
    "id = create_playlist('share')"
   ]
  },
  {
   "cell_type": "code",
   "execution_count": 150,
   "metadata": {},
   "outputs": [],
   "source": []
  },
  {
   "cell_type": "code",
   "execution_count": 193,
   "metadata": {},
   "outputs": [],
   "source": [
    "playlist_songs = {}\n",
    "# for playlist in sp.user_playlists(user=username)['items']:\n",
    "# print(playlist['name'])"
   ]
  },
  {
   "cell_type": "code",
   "execution_count": 157,
   "metadata": {},
   "outputs": [],
   "source": [
    "playlist_songs = {}\n",
    "playlist = sp.user_playlists(user=username)['items'][1]\n",
    "playlist_id = playlist['id']\n",
    "playlist = sp.playlist(playlist_id=playlist_id, fields=None, market=None, additional_types=('track', ))"
   ]
  },
  {
   "cell_type": "code",
   "execution_count": 186,
   "metadata": {},
   "outputs": [],
   "source": [
    "def get_all_playlist_tracks(username):\n",
    "    tracks=set()\n",
    "    playlists = sp.user_playlists(user=username)['items']\n",
    "    for playlist in playlists:\n",
    "#         print(playlist)\n",
    "        playlist_id = playlist['id']\n",
    "        playlist = sp.playlist(playlist_id=playlist_id, fields=None, market=None, additional_types=('track', ))\n",
    "        for song in playlist['tracks']['items']:\n",
    "            tracks.add(song['track']['id'])\n",
    "\n",
    "    return list(tracks)\n",
    "# playlist['tracks']['items'][0]['track']['name']"
   ]
  },
  {
   "cell_type": "code",
   "execution_count": 188,
   "metadata": {},
   "outputs": [],
   "source": [
    "tracks = get_all_playlist_tracks('username')"
   ]
  },
  {
   "cell_type": "code",
   "execution_count": 192,
   "metadata": {},
   "outputs": [
    {
     "name": "stdout",
     "output_type": "stream",
     "text": [
      "Deleting currently existing playlist of name 'share'\n",
      "100\n",
      "100\n",
      "100\n",
      "31\n"
     ]
    }
   ],
   "source": [
    "playlist_id = create_playlist('share')\n",
    "#playlist = sp.playlist(playlist_id=playlist_id, fields=None, market=None, additional_types=('track', ))\n",
    "#print(playlist['name'])\n",
    "i = 0\n",
    "while i < len(tracks):\n",
    "    track_subset = tracks[i:min(len(tracks),i+100)]\n",
    "    print(len(track_subset))\n",
    "    sp.user_playlist_add_tracks(user=username, playlist_id=playlist_id, tracks=track_subset)\n",
    "    i += 100"
   ]
  },
  {
   "cell_type": "code",
   "execution_count": null,
   "metadata": {},
   "outputs": [],
   "source": []
  }
 ],
 "metadata": {
  "kernelspec": {
   "display_name": "Python 3",
   "language": "python",
   "name": "python3"
  },
  "language_info": {
   "codemirror_mode": {
    "name": "ipython",
    "version": 3
   },
   "file_extension": ".py",
   "mimetype": "text/x-python",
   "name": "python",
   "nbconvert_exporter": "python",
   "pygments_lexer": "ipython3",
   "version": "3.7.4"
  }
 },
 "nbformat": 4,
 "nbformat_minor": 2
}
